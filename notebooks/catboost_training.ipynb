{
 "cells": [
  {
   "cell_type": "code",
   "execution_count": 10,
   "metadata": {},
   "outputs": [],
   "source": [
    "from catboost import Pool, CatBoostClassifier\n",
    "import pandas as pd\n",
    "import numpy as np\n",
    "from sklearn.model_selection import StratifiedKFold, train_test_split\n",
    "import matplotlib.pyplot as plt"
   ]
  },
  {
   "cell_type": "code",
   "execution_count": 2,
   "metadata": {},
   "outputs": [],
   "source": [
    "# !jupyter nbextension enable --py widgetsnbextension"
   ]
  },
  {
   "attachments": {},
   "cell_type": "markdown",
   "metadata": {},
   "source": [
    "Считываем предобработанные данные"
   ]
  },
  {
   "cell_type": "code",
   "execution_count": 3,
   "metadata": {},
   "outputs": [],
   "source": [
    "path_to_val_data = \"/home/kenny/avito_tech/data/processed/val_data.csv\"\n",
    "path_to_train_data = \"/home/kenny/avito_tech/data/processed/train_data.csv\""
   ]
  },
  {
   "cell_type": "code",
   "execution_count": 4,
   "metadata": {},
   "outputs": [],
   "source": [
    "df_test = pd.read_csv(path_to_val_data)\n",
    "df_train = pd.read_csv(path_to_train_data)"
   ]
  },
  {
   "cell_type": "code",
   "execution_count": 4,
   "metadata": {},
   "outputs": [
    {
     "data": {
      "text/html": [
       "<div>\n",
       "<style scoped>\n",
       "    .dataframe tbody tr th:only-of-type {\n",
       "        vertical-align: middle;\n",
       "    }\n",
       "\n",
       "    .dataframe tbody tr th {\n",
       "        vertical-align: top;\n",
       "    }\n",
       "\n",
       "    .dataframe thead th {\n",
       "        text-align: right;\n",
       "    }\n",
       "</style>\n",
       "<table border=\"1\" class=\"dataframe\">\n",
       "  <thead>\n",
       "    <tr style=\"text-align: right;\">\n",
       "      <th></th>\n",
       "      <th>title</th>\n",
       "      <th>description</th>\n",
       "      <th>subcategory</th>\n",
       "      <th>category</th>\n",
       "      <th>price</th>\n",
       "      <th>region</th>\n",
       "      <th>city</th>\n",
       "      <th>datetime_submitted</th>\n",
       "      <th>is_bad</th>\n",
       "      <th>text</th>\n",
       "      <th>...</th>\n",
       "      <th>description_count_numbers</th>\n",
       "      <th>phone_normal</th>\n",
       "      <th>phone_strange</th>\n",
       "      <th>has_site</th>\n",
       "      <th>has_email</th>\n",
       "      <th>home_phone</th>\n",
       "      <th>phone_operators</th>\n",
       "      <th>messenger</th>\n",
       "      <th>filtered_text</th>\n",
       "      <th>filtered_numbers</th>\n",
       "    </tr>\n",
       "  </thead>\n",
       "  <tbody>\n",
       "    <tr>\n",
       "      <th>5214</th>\n",
       "      <td>Утеплитель пеноплэкс 3см</td>\n",
       "      <td>ПЕНОПЛЭКС КОМФОРТ 6682х282х20мм (1,82м4=0,4149...</td>\n",
       "      <td>Ремонт и строительство</td>\n",
       "      <td>Для дома и дачи</td>\n",
       "      <td>951.0</td>\n",
       "      <td>Татарстан</td>\n",
       "      <td>Казань</td>\n",
       "      <td>2019-10-11 14:22:46.397216</td>\n",
       "      <td>0</td>\n",
       "      <td>утеплитель пеноплэкс 3см пеноплэкс комфорт 668...</td>\n",
       "      <td>...</td>\n",
       "      <td>24</td>\n",
       "      <td>1</td>\n",
       "      <td>0</td>\n",
       "      <td>0</td>\n",
       "      <td>0</td>\n",
       "      <td>1</td>\n",
       "      <td>0</td>\n",
       "      <td>0</td>\n",
       "      <td>3 6682 282 20 1 82 4 0 4149 3 1 7 926</td>\n",
       "      <td>3 6682 282 20 1 82 4 0 4149 3 1 7 926</td>\n",
       "    </tr>\n",
       "    <tr>\n",
       "      <th>12363</th>\n",
       "      <td>Игрушки,есть оригинальные и по мультикам</td>\n",
       "      <td>Продам игрушки:/\\n-  \"Герои Марвел\" + фигурка ...</td>\n",
       "      <td>Товары для детей и игрушки</td>\n",
       "      <td>Личные вещи</td>\n",
       "      <td>100.0</td>\n",
       "      <td>Омская область</td>\n",
       "      <td>Омск</td>\n",
       "      <td>2019-10-13 18:48:11.327520</td>\n",
       "      <td>0</td>\n",
       "      <td>игрушка оригинальный мультик продать игрушка г...</td>\n",
       "      <td>...</td>\n",
       "      <td>58</td>\n",
       "      <td>0</td>\n",
       "      <td>0</td>\n",
       "      <td>0</td>\n",
       "      <td>0</td>\n",
       "      <td>0</td>\n",
       "      <td>0</td>\n",
       "      <td>0</td>\n",
       "      <td>play doh 4 430 6 500 130 3 5 400 100 530 3 13...</td>\n",
       "      <td>4 430 6 500 130 3 5 400 100 530 3 130 2 100 7...</td>\n",
       "    </tr>\n",
       "    <tr>\n",
       "      <th>413</th>\n",
       "      <td>Штатное головное устройство на hyundai santafe</td>\n",
       "      <td>ПРОДАМ  Штатное  головное устройство на hyunda...</td>\n",
       "      <td>Запчасти и аксессуары</td>\n",
       "      <td>Транспорт</td>\n",
       "      <td>6000.0</td>\n",
       "      <td>Оренбургская область</td>\n",
       "      <td>Оренбург</td>\n",
       "      <td>2019-10-10 07:49:02.201855</td>\n",
       "      <td>1</td>\n",
       "      <td>штатный головной устройство hyundai santafe пр...</td>\n",
       "      <td>...</td>\n",
       "      <td>14</td>\n",
       "      <td>0</td>\n",
       "      <td>0</td>\n",
       "      <td>0</td>\n",
       "      <td>0</td>\n",
       "      <td>0</td>\n",
       "      <td>0</td>\n",
       "      <td>0</td>\n",
       "      <td>hyundai santafe hyundai santafe 1031 11 38 11...</td>\n",
       "      <td>1031 11 38 11 5000</td>\n",
       "    </tr>\n",
       "  </tbody>\n",
       "</table>\n",
       "<p>3 rows × 23 columns</p>\n",
       "</div>"
      ],
      "text/plain": [
       "                                                title  \\\n",
       "5214                         Утеплитель пеноплэкс 3см   \n",
       "12363        Игрушки,есть оригинальные и по мультикам   \n",
       "413    Штатное головное устройство на hyundai santafe   \n",
       "\n",
       "                                             description  \\\n",
       "5214   ПЕНОПЛЭКС КОМФОРТ 6682х282х20мм (1,82м4=0,4149...   \n",
       "12363  Продам игрушки:/\\n-  \"Герои Марвел\" + фигурка ...   \n",
       "413    ПРОДАМ  Штатное  головное устройство на hyunda...   \n",
       "\n",
       "                      subcategory         category   price  \\\n",
       "5214       Ремонт и строительство  Для дома и дачи   951.0   \n",
       "12363  Товары для детей и игрушки      Личные вещи   100.0   \n",
       "413         Запчасти и аксессуары        Транспорт  6000.0   \n",
       "\n",
       "                     region      city          datetime_submitted  is_bad  \\\n",
       "5214              Татарстан    Казань  2019-10-11 14:22:46.397216       0   \n",
       "12363        Омская область      Омск  2019-10-13 18:48:11.327520       0   \n",
       "413    Оренбургская область  Оренбург  2019-10-10 07:49:02.201855       1   \n",
       "\n",
       "                                                    text  ...  \\\n",
       "5214   утеплитель пеноплэкс 3см пеноплэкс комфорт 668...  ...   \n",
       "12363  игрушка оригинальный мультик продать игрушка г...  ...   \n",
       "413    штатный головной устройство hyundai santafe пр...  ...   \n",
       "\n",
       "       description_count_numbers  phone_normal  phone_strange  has_site  \\\n",
       "5214                          24             1              0         0   \n",
       "12363                         58             0              0         0   \n",
       "413                           14             0              0         0   \n",
       "\n",
       "       has_email  home_phone  phone_operators  messenger  \\\n",
       "5214           0           1                0          0   \n",
       "12363          0           0                0          0   \n",
       "413            0           0                0          0   \n",
       "\n",
       "                                           filtered_text  \\\n",
       "5214              3 6682 282 20 1 82 4 0 4149 3 1 7 926    \n",
       "12363   play doh 4 430 6 500 130 3 5 400 100 530 3 13...   \n",
       "413     hyundai santafe hyundai santafe 1031 11 38 11...   \n",
       "\n",
       "                                        filtered_numbers  \n",
       "5214              3 6682 282 20 1 82 4 0 4149 3 1 7 926   \n",
       "12363   4 430 6 500 130 3 5 400 100 530 3 130 2 100 7...  \n",
       "413                                  1031 11 38 11 5000   \n",
       "\n",
       "[3 rows x 23 columns]"
      ]
     },
     "execution_count": 4,
     "metadata": {},
     "output_type": "execute_result"
    }
   ],
   "source": [
    "df_test.sample(3)"
   ]
  },
  {
   "attachments": {},
   "cell_type": "markdown",
   "metadata": {},
   "source": [
    "Обучим модельку на всех признаках, за исключением:\n",
    "    description\n",
    "    title\n",
    "    datetime_submitted"
   ]
  },
  {
   "cell_type": "code",
   "execution_count": 4,
   "metadata": {},
   "outputs": [],
   "source": [
    "df_train.drop(['description', 'title', 'datetime_submitted'], axis=1, inplace=True)\n",
    "df_test.drop(['description', 'title',  'datetime_submitted'], axis=1, inplace=True)"
   ]
  },
  {
   "cell_type": "code",
   "execution_count": 5,
   "metadata": {},
   "outputs": [],
   "source": [
    "df_train, df_val = train_test_split(df_train, test_size=0.1, random_state=43, stratify=df_train['category'])"
   ]
  },
  {
   "cell_type": "code",
   "execution_count": 6,
   "metadata": {},
   "outputs": [],
   "source": [
    "cat_features = ['subcategory', 'category', 'region', 'city']\n",
    "\n",
    "train_pool = Pool(data=df_train.drop(['is_bad'], axis=1), cat_features=cat_features, label=df_train['is_bad'], text_features=['filtered_text', 'text', 'filtered_numbers'])\n",
    "val_pool = Pool(data=df_val.drop(['is_bad'], axis=1), cat_features=cat_features, label=df_val['is_bad'], text_features=['filtered_text', 'text', 'filtered_numbers'])"
   ]
  },
  {
   "cell_type": "code",
   "execution_count": 11,
   "metadata": {},
   "outputs": [
    {
     "data": {
      "application/vnd.jupyter.widget-view+json": {
       "model_id": "e4c4e511942746cb981cce68eeaa52d4",
       "version_major": 2,
       "version_minor": 0
      },
      "text/plain": [
       "MetricVisualizer(layout=Layout(align_self='stretch', height='500px'))"
      ]
     },
     "metadata": {},
     "output_type": "display_data"
    },
    {
     "name": "stdout",
     "output_type": "stream",
     "text": [
      "0:\ttest: 0.8219566\tbest: 0.8219566 (0)\ttotal: 1.67s\tremaining: 27m 46s\n",
      "100:\ttest: 0.9686253\tbest: 0.9686253 (100)\ttotal: 2m 35s\tremaining: 23m 5s\n",
      "200:\ttest: 0.9738378\tbest: 0.9738378 (200)\ttotal: 4m 52s\tremaining: 19m 23s\n",
      "300:\ttest: 0.9761323\tbest: 0.9761323 (300)\ttotal: 7m 8s\tremaining: 16m 36s\n",
      "400:\ttest: 0.9778653\tbest: 0.9778653 (400)\ttotal: 9m 25s\tremaining: 14m 4s\n",
      "500:\ttest: 0.9789033\tbest: 0.9789033 (500)\ttotal: 11m 39s\tremaining: 11m 36s\n",
      "600:\ttest: 0.9797253\tbest: 0.9797253 (600)\ttotal: 13m 54s\tremaining: 9m 14s\n",
      "700:\ttest: 0.9803130\tbest: 0.9803130 (700)\ttotal: 16m 8s\tremaining: 6m 53s\n",
      "800:\ttest: 0.9807487\tbest: 0.9807487 (800)\ttotal: 18m 21s\tremaining: 4m 33s\n",
      "900:\ttest: 0.9811514\tbest: 0.9811514 (900)\ttotal: 20m 29s\tremaining: 2m 15s\n",
      "999:\ttest: 0.9814768\tbest: 0.9814768 (999)\ttotal: 22m 37s\tremaining: 0us\n",
      "\n",
      "bestTest = 0.9814767641\n",
      "bestIteration = 999\n",
      "\n"
     ]
    },
    {
     "data": {
      "text/plain": [
       "<catboost.core.CatBoostClassifier at 0x7f8cc4eed400>"
      ]
     },
     "execution_count": 11,
     "metadata": {},
     "output_type": "execute_result"
    }
   ],
   "source": [
    "from multiprocessing import cpu_count\n",
    "\n",
    "catboost_basic = CatBoostClassifier(\n",
    "    iterations=1000,\n",
    "    learning_rate=0.1,\n",
    "    random_strength=0.01,\n",
    "    depth=8,\n",
    "    eval_metric='AUC',\n",
    "    verbose=100,\n",
    "    task_type='CPU',\n",
    "    thread_count=cpu_count(),\n",
    ")\n",
    "catboost_basic.fit(train_pool, plot=True, eval_set=val_pool)"
   ]
  },
  {
   "cell_type": "code",
   "execution_count": 12,
   "metadata": {},
   "outputs": [],
   "source": [
    "catboost_basic.save_model('/home/kenny/avito_tech/models/catboost/catboost_base_classifier.cbm')"
   ]
  },
  {
   "cell_type": "code",
   "execution_count": 7,
   "metadata": {},
   "outputs": [],
   "source": [
    "basic_catboost = CatBoostClassifier().load_model('/home/kenny/avito_tech/models/catboost/catboost_base_classifier.cbm')"
   ]
  },
  {
   "cell_type": "code",
   "execution_count": 10,
   "metadata": {},
   "outputs": [],
   "source": [
    "from sklearn.metrics import accuracy_score, f1_score, roc_auc_score\n",
    "from prettytable import PrettyTable\n",
    "\n",
    "def _check_quality(df, model, cols_to_drop, target, text_features, cat_features):\n",
    "    test_pool = Pool(data=df.drop(cols_to_drop, axis=1), cat_features=cat_features, label=df[target], text_features=text_features)\n",
    "    df[\"predict_proba\"] = model.predict_proba(test_pool)[:, 1]\n",
    "    df[\"predict\"] = model.predict(test_pool)\n",
    "    categories = dict(df.category.value_counts())\n",
    "    all_roc_auc = []\n",
    "    all_f1 = []\n",
    "    all_accuracy = []\n",
    "    category_table = PrettyTable([\"Category\", \"ROC-AUC\", \"Accuracy\", \"F1\"])\n",
    "    overall_table = PrettyTable([\"ROC-AUC\", \"Accuracy\", \"F1\"])\n",
    "    for category in categories:\n",
    "        tmp = df[df.category == category]\n",
    "        predicted_y = tmp.predict\n",
    "        predicted_proba_y = tmp.predict_proba\n",
    "        true_y = tmp.is_bad\n",
    "        \n",
    "        roc_auc_category = roc_auc_score(true_y, predicted_proba_y)\n",
    "        accuracy_category = accuracy_score(true_y, predicted_y)\n",
    "        f1_category = f1_score(true_y, predicted_y)\n",
    "        \n",
    "        all_roc_auc.append(roc_auc_category)\n",
    "        all_f1.append(f1_category)\n",
    "        all_accuracy.append(accuracy_category)\n",
    "        \n",
    "        category_table.add_row([category, roc_auc_category, accuracy_category, f1_category])\n",
    "    print(\"Category table:\")\n",
    "    print(category_table)\n",
    "    print()\n",
    "    # calculation for all roc_auc, f1, accuracy\n",
    "    table = PrettyTable([\"ROC-AUC\", \"Accuracy\", \"F1\"])\n",
    "    roc_auc = roc_auc_score(df[target], df[\"predict_proba\"])\n",
    "    f1 = f1_score(df[target], df[\"predict\"])\n",
    "    accuracy = accuracy_score(df[target], df[\"predict\"])\n",
    "    table.add_row([roc_auc, f1, accuracy])\n",
    "    print(\"All values table:\")\n",
    "    print(table)\n",
    "    print()\n",
    "    # calculation for mean values for each metric type:\n",
    "    mean_roc_auc = sum(all_roc_auc) / len(all_roc_auc)\n",
    "    mean_f1 = sum(all_f1) / len(all_f1)\n",
    "    mean_accuracy = sum(all_accuracy) / len(all_accuracy)\n",
    "    overall_table.add_row([mean_roc_auc, mean_accuracy, mean_f1])\n",
    "    print(\"Overall mean values table:\")\n",
    "    print(overall_table)"
   ]
  },
  {
   "attachments": {},
   "cell_type": "markdown",
   "metadata": {},
   "source": [
    "Проверим качество для тестового набора"
   ]
  },
  {
   "cell_type": "code",
   "execution_count": 9,
   "metadata": {},
   "outputs": [
    {
     "name": "stdout",
     "output_type": "stream",
     "text": [
      "Category table:\n",
      "+---------------------+--------------------+--------------------+--------------------+\n",
      "|       Category      |      ROC-AUC       |      Accuracy      |         F1         |\n",
      "+---------------------+--------------------+--------------------+--------------------+\n",
      "|      Транспорт      | 0.9872654390930441 | 0.9519738038930325 | 0.9197568389057751 |\n",
      "| Бытовая электроника | 0.9341419330289195 | 0.9551649928263989 | 0.6376811594202898 |\n",
      "|   Для дома и дачи   | 0.9378757013091102 | 0.9290928050052137 | 0.7926829268292682 |\n",
      "|     Личные вещи     | 0.8234548572280623 | 0.909915014164306  | 0.6168674698795179 |\n",
      "|     Недвижимость    | 0.9312468338810449 | 0.8042117245304496 | 0.7627586206896552 |\n",
      "|    Хобби и отдых    | 0.9305212075964724 | 0.9196988707653702 | 0.5616438356164384 |\n",
      "|        Услуги       | 0.8881990897025945 | 0.8184523809523809 | 0.8087774294670848 |\n",
      "|        Работа       | 0.9401054339010544 | 0.8419117647058824 | 0.8230452674897119 |\n",
      "|     Для бизнеса     | 0.8689114089571754 | 0.9377162629757786 | 0.5909090909090909 |\n",
      "|       Животные      | 0.9284353741496598 | 0.861904761904762  | 0.8585365853658538 |\n",
      "+---------------------+--------------------+--------------------+--------------------+\n",
      "\n",
      "All values table:\n",
      "+--------------------+--------------------+--------------------+\n",
      "|      ROC-AUC       |      Accuracy      |         F1         |\n",
      "+--------------------+--------------------+--------------------+\n",
      "| 0.9572095328954833 | 0.8244951140065145 | 0.9170413253679867 |\n",
      "+--------------------+--------------------+--------------------+\n",
      "\n",
      "Overall mean values table:\n",
      "+--------------------+--------------------+--------------------+\n",
      "|      ROC-AUC       |      Accuracy      |         F1         |\n",
      "+--------------------+--------------------+--------------------+\n",
      "| 0.9170157278847137 | 0.8930042381723575 | 0.7372659224572685 |\n",
      "+--------------------+--------------------+--------------------+\n"
     ]
    }
   ],
   "source": [
    "cat_features = ['subcategory', 'category', 'region', 'city']\n",
    "target= \"is_bad\"\n",
    "text_features = ['filtered_text', 'text', 'filtered_numbers']\n",
    "cols_to_drop = [\"is_bad\"]\n",
    "_check_quality(df_test, basic_catboost, cols_to_drop, target, text_features, cat_features)"
   ]
  },
  {
   "attachments": {},
   "cell_type": "markdown",
   "metadata": {},
   "source": [
    "Посмотрим на feature_importance"
   ]
  },
  {
   "cell_type": "code",
   "execution_count": 11,
   "metadata": {},
   "outputs": [
    {
     "data": {
      "text/html": [
       "<div>\n",
       "<style scoped>\n",
       "    .dataframe tbody tr th:only-of-type {\n",
       "        vertical-align: middle;\n",
       "    }\n",
       "\n",
       "    .dataframe tbody tr th {\n",
       "        vertical-align: top;\n",
       "    }\n",
       "\n",
       "    .dataframe thead th {\n",
       "        text-align: right;\n",
       "    }\n",
       "</style>\n",
       "<table border=\"1\" class=\"dataframe\">\n",
       "  <thead>\n",
       "    <tr style=\"text-align: right;\">\n",
       "      <th></th>\n",
       "      <th>Feature Id</th>\n",
       "      <th>Importances</th>\n",
       "    </tr>\n",
       "  </thead>\n",
       "  <tbody>\n",
       "    <tr>\n",
       "      <th>0</th>\n",
       "      <td>text</td>\n",
       "      <td>0.106470</td>\n",
       "    </tr>\n",
       "    <tr>\n",
       "      <th>1</th>\n",
       "      <td>filtered_numbers</td>\n",
       "      <td>0.028337</td>\n",
       "    </tr>\n",
       "    <tr>\n",
       "      <th>2</th>\n",
       "      <td>phone_normal</td>\n",
       "      <td>0.009292</td>\n",
       "    </tr>\n",
       "    <tr>\n",
       "      <th>3</th>\n",
       "      <td>description_count_numbers</td>\n",
       "      <td>0.007767</td>\n",
       "    </tr>\n",
       "    <tr>\n",
       "      <th>4</th>\n",
       "      <td>filtered_text</td>\n",
       "      <td>0.007576</td>\n",
       "    </tr>\n",
       "    <tr>\n",
       "      <th>5</th>\n",
       "      <td>description_len</td>\n",
       "      <td>0.005307</td>\n",
       "    </tr>\n",
       "    <tr>\n",
       "      <th>6</th>\n",
       "      <td>phone_strange</td>\n",
       "      <td>0.005037</td>\n",
       "    </tr>\n",
       "    <tr>\n",
       "      <th>7</th>\n",
       "      <td>home_phone</td>\n",
       "      <td>0.003336</td>\n",
       "    </tr>\n",
       "    <tr>\n",
       "      <th>8</th>\n",
       "      <td>has_site</td>\n",
       "      <td>0.001005</td>\n",
       "    </tr>\n",
       "    <tr>\n",
       "      <th>9</th>\n",
       "      <td>price</td>\n",
       "      <td>0.000901</td>\n",
       "    </tr>\n",
       "    <tr>\n",
       "      <th>10</th>\n",
       "      <td>has_email</td>\n",
       "      <td>0.000862</td>\n",
       "    </tr>\n",
       "    <tr>\n",
       "      <th>11</th>\n",
       "      <td>title_count_numbers</td>\n",
       "      <td>0.000632</td>\n",
       "    </tr>\n",
       "    <tr>\n",
       "      <th>12</th>\n",
       "      <td>title_len</td>\n",
       "      <td>0.000555</td>\n",
       "    </tr>\n",
       "    <tr>\n",
       "      <th>13</th>\n",
       "      <td>subcategory</td>\n",
       "      <td>0.000349</td>\n",
       "    </tr>\n",
       "    <tr>\n",
       "      <th>14</th>\n",
       "      <td>category</td>\n",
       "      <td>0.000216</td>\n",
       "    </tr>\n",
       "    <tr>\n",
       "      <th>15</th>\n",
       "      <td>phone_operators</td>\n",
       "      <td>0.000154</td>\n",
       "    </tr>\n",
       "    <tr>\n",
       "      <th>16</th>\n",
       "      <td>city</td>\n",
       "      <td>0.000131</td>\n",
       "    </tr>\n",
       "    <tr>\n",
       "      <th>17</th>\n",
       "      <td>region</td>\n",
       "      <td>0.000113</td>\n",
       "    </tr>\n",
       "    <tr>\n",
       "      <th>18</th>\n",
       "      <td>messenger</td>\n",
       "      <td>0.000067</td>\n",
       "    </tr>\n",
       "  </tbody>\n",
       "</table>\n",
       "</div>"
      ],
      "text/plain": [
       "                   Feature Id  Importances\n",
       "0                        text     0.106470\n",
       "1            filtered_numbers     0.028337\n",
       "2                phone_normal     0.009292\n",
       "3   description_count_numbers     0.007767\n",
       "4               filtered_text     0.007576\n",
       "5             description_len     0.005307\n",
       "6               phone_strange     0.005037\n",
       "7                  home_phone     0.003336\n",
       "8                    has_site     0.001005\n",
       "9                       price     0.000901\n",
       "10                  has_email     0.000862\n",
       "11        title_count_numbers     0.000632\n",
       "12                  title_len     0.000555\n",
       "13                subcategory     0.000349\n",
       "14                   category     0.000216\n",
       "15            phone_operators     0.000154\n",
       "16                       city     0.000131\n",
       "17                     region     0.000113\n",
       "18                  messenger     0.000067"
      ]
     },
     "execution_count": 11,
     "metadata": {},
     "output_type": "execute_result"
    }
   ],
   "source": [
    "basic_catboost.get_feature_importance(val_pool, type='LossFunctionChange', prettified=True)"
   ]
  },
  {
   "cell_type": "code",
   "execution_count": null,
   "metadata": {},
   "outputs": [],
   "source": [
    "from sklearn.inspection import permutation_importance\n",
    "X_test = df_val.drop(\"is_bad\", axis=1)\n",
    "y_test = df_val[\"is_bad\"]\n",
    "perm_importance = permutation_importance(basic_catboost, X_test, y_test, n_repeats=5, random_state=1066)\n",
    "sorted_idx = perm_importance.importances_mean.argsort()\n",
    "fig = plt.figure(figsize=(12, 6))\n",
    "plt.barh(range(len(sorted_idx)), perm_importance.importances_mean[sorted_idx], align='center')\n",
    "plt.yticks(range(len(sorted_idx)), np.array(X_test.columns)[sorted_idx])\n",
    "plt.title('Permutation Importance')"
   ]
  },
  {
   "attachments": {},
   "cell_type": "markdown",
   "metadata": {},
   "source": [
    "Попробуем исключить все признаки начиная с 9"
   ]
  },
  {
   "cell_type": "code",
   "execution_count": 5,
   "metadata": {},
   "outputs": [],
   "source": [
    "df_train, df_val = train_test_split(df_train, test_size=0.1, random_state=43, stratify=df_train['category'])"
   ]
  },
  {
   "cell_type": "code",
   "execution_count": 6,
   "metadata": {},
   "outputs": [],
   "source": [
    "df_train.drop(['description', 'category', 'title', 'subcategory', 'price', 'region', 'city', 'datetime_submitted', 'has_email', 'title_count_numbers', 'title_len', 'phone_operators', 'messenger'], axis=1, inplace=True)\n",
    "df_val.drop(['description', 'category', 'title', 'subcategory', 'price', 'region', 'city', 'datetime_submitted', 'has_email', 'title_count_numbers', 'title_len', 'phone_operators', 'messenger'], axis=1, inplace=True)\n",
    "df_test.drop(['description', 'title', 'subcategory', 'price', 'region', 'city', 'datetime_submitted', 'has_email', 'title_count_numbers', 'title_len', 'phone_operators', 'messenger'], axis=1, inplace=True)"
   ]
  },
  {
   "cell_type": "code",
   "execution_count": 7,
   "metadata": {},
   "outputs": [],
   "source": [
    "train_pool = Pool(data=df_train.drop(['is_bad'], axis=1), label=df_train['is_bad'], text_features=['filtered_text', 'text', 'filtered_numbers'])\n",
    "val_pool = Pool(data=df_val.drop(['is_bad'], axis=1), label=df_val['is_bad'], text_features=['filtered_text', 'text', 'filtered_numbers'])"
   ]
  },
  {
   "cell_type": "code",
   "execution_count": 11,
   "metadata": {},
   "outputs": [
    {
     "data": {
      "application/vnd.jupyter.widget-view+json": {
       "model_id": "8f2a278e78f643778f2ad1d3c6a86747",
       "version_major": 2,
       "version_minor": 0
      },
      "text/plain": [
       "MetricVisualizer(layout=Layout(align_self='stretch', height='500px'))"
      ]
     },
     "metadata": {},
     "output_type": "display_data"
    },
    {
     "name": "stdout",
     "output_type": "stream",
     "text": [
      "0:\ttest: 0.9248244\tbest: 0.9248244 (0)\ttotal: 1.78s\tremaining: 29m 36s\n",
      "100:\ttest: 0.9686389\tbest: 0.9686389 (100)\ttotal: 2m 22s\tremaining: 21m 5s\n",
      "200:\ttest: 0.9730219\tbest: 0.9730219 (200)\ttotal: 4m 32s\tremaining: 18m 2s\n",
      "300:\ttest: 0.9752735\tbest: 0.9752735 (300)\ttotal: 6m 41s\tremaining: 15m 33s\n",
      "400:\ttest: 0.9766920\tbest: 0.9766920 (400)\ttotal: 8m 48s\tremaining: 13m 9s\n",
      "500:\ttest: 0.9776575\tbest: 0.9776576 (499)\ttotal: 10m 56s\tremaining: 10m 54s\n",
      "600:\ttest: 0.9783457\tbest: 0.9783457 (600)\ttotal: 12m 59s\tremaining: 8m 37s\n",
      "700:\ttest: 0.9789033\tbest: 0.9789033 (700)\ttotal: 15m\tremaining: 6m 24s\n",
      "800:\ttest: 0.9793790\tbest: 0.9793790 (800)\ttotal: 17m 1s\tremaining: 4m 13s\n",
      "900:\ttest: 0.9797503\tbest: 0.9797503 (900)\ttotal: 18m 59s\tremaining: 2m 5s\n",
      "999:\ttest: 0.9800338\tbest: 0.9800338 (999)\ttotal: 20m 52s\tremaining: 0us\n",
      "\n",
      "bestTest = 0.980033842\n",
      "bestIteration = 999\n",
      "\n"
     ]
    },
    {
     "data": {
      "text/plain": [
       "<catboost.core.CatBoostClassifier at 0x7fb5de853340>"
      ]
     },
     "execution_count": 11,
     "metadata": {},
     "output_type": "execute_result"
    }
   ],
   "source": [
    "from multiprocessing import cpu_count\n",
    "\n",
    "catboost_modified = CatBoostClassifier(\n",
    "    iterations=1000,\n",
    "    learning_rate=0.1,\n",
    "    random_strength=0.01,\n",
    "    depth=8,\n",
    "    eval_metric='AUC',\n",
    "    verbose=100,\n",
    "    task_type='CPU',\n",
    "    thread_count=cpu_count(),\n",
    ")\n",
    "catboost_modified.fit(train_pool, plot=True, eval_set=val_pool)"
   ]
  },
  {
   "cell_type": "code",
   "execution_count": 15,
   "metadata": {},
   "outputs": [
    {
     "name": "stdout",
     "output_type": "stream",
     "text": [
      "Category table:\n",
      "+---------------------+--------------------+--------------------+--------------------+\n",
      "|       Category      |      ROC-AUC       |      Accuracy      |         F1         |\n",
      "+---------------------+--------------------+--------------------+--------------------+\n",
      "|      Транспорт      | 0.9888222100988058 | 0.9545206476259778 | 0.9244712990936556 |\n",
      "| Бытовая электроника | 0.9390696347031964 | 0.9540889526542324 | 0.6595744680851063 |\n",
      "|   Для дома и дачи   | 0.9488257710689584 | 0.9348279457768509 | 0.8125937031484258 |\n",
      "|     Личные вещи     | 0.8376507187735102 | 0.9150141643059491 | 0.6376811594202899 |\n",
      "|     Недвижимость    | 0.9453206385493655 | 0.8366533864541833 | 0.8098078197481776 |\n",
      "|    Хобби и отдых    | 0.9367038402314405 | 0.9121706398996235 | 0.5783132530120482 |\n",
      "|        Услуги       | 0.8797997701988938 | 0.8065476190476191 | 0.7818791946308725 |\n",
      "|        Работа       | 0.8623817247904839 | 0.7941176470588235 | 0.7543859649122808 |\n",
      "|     Для бизнеса     | 0.8331153971886237 | 0.9273356401384083 | 0.5882352941176471 |\n",
      "|       Животные      | 0.9258956916099774 | 0.8571428571428571 | 0.854368932038835  |\n",
      "+---------------------+--------------------+--------------------+--------------------+\n",
      "\n",
      "All values table:\n",
      "+--------------------+--------------------+--------------------+\n",
      "|      ROC-AUC       |      Accuracy      |         F1         |\n",
      "+--------------------+--------------------+--------------------+\n",
      "| 0.9582821252614409 | 0.8318926590117405 | 0.9197511855638357 |\n",
      "+--------------------+--------------------+--------------------+\n",
      "\n",
      "Overall mean values table:\n",
      "+--------------------+--------------------+--------------------+\n",
      "|      ROC-AUC       |      Accuracy      |         F1         |\n",
      "+--------------------+--------------------+--------------------+\n",
      "| 0.9097585397213255 | 0.8892419500104525 | 0.7401311088207339 |\n",
      "+--------------------+--------------------+--------------------+\n"
     ]
    }
   ],
   "source": [
    "cols_to_drop = ['category','is_bad']\n",
    "cat_features = []\n",
    "text_features = ['filtered_text', 'text', 'filtered_numbers']\n",
    "target = \"is_bad\"\n",
    "_check_quality(df_test, catboost_modified, cols_to_drop, target, text_features, cat_features)"
   ]
  },
  {
   "cell_type": "code",
   "execution_count": 18,
   "metadata": {},
   "outputs": [],
   "source": [
    "catboost_modified.save_model('/home/kenny/avito_tech/models/catboost/catboost_modified_classifier.cbm')"
   ]
  },
  {
   "cell_type": "code",
   "execution_count": 7,
   "metadata": {},
   "outputs": [
    {
     "data": {
      "text/plain": [
       "<catboost.core.CatBoostClassifier at 0x7f89b54c0460>"
      ]
     },
     "execution_count": 7,
     "metadata": {},
     "output_type": "execute_result"
    }
   ],
   "source": [
    "catboost_modified = CatBoostClassifier()\n",
    "catboost_modified.load_model('/home/kenny/avito_tech/models/catboost/catboost_modified_classifier.cbm')"
   ]
  },
  {
   "cell_type": "code",
   "execution_count": 16,
   "metadata": {},
   "outputs": [
    {
     "data": {
      "text/html": [
       "<div>\n",
       "<style scoped>\n",
       "    .dataframe tbody tr th:only-of-type {\n",
       "        vertical-align: middle;\n",
       "    }\n",
       "\n",
       "    .dataframe tbody tr th {\n",
       "        vertical-align: top;\n",
       "    }\n",
       "\n",
       "    .dataframe thead th {\n",
       "        text-align: right;\n",
       "    }\n",
       "</style>\n",
       "<table border=\"1\" class=\"dataframe\">\n",
       "  <thead>\n",
       "    <tr style=\"text-align: right;\">\n",
       "      <th></th>\n",
       "      <th>Feature Id</th>\n",
       "      <th>Importances</th>\n",
       "    </tr>\n",
       "  </thead>\n",
       "  <tbody>\n",
       "    <tr>\n",
       "      <th>0</th>\n",
       "      <td>text</td>\n",
       "      <td>0.115192</td>\n",
       "    </tr>\n",
       "    <tr>\n",
       "      <th>1</th>\n",
       "      <td>filtered_text</td>\n",
       "      <td>0.029891</td>\n",
       "    </tr>\n",
       "    <tr>\n",
       "      <th>2</th>\n",
       "      <td>phone_normal</td>\n",
       "      <td>0.011401</td>\n",
       "    </tr>\n",
       "    <tr>\n",
       "      <th>3</th>\n",
       "      <td>description_count_numbers</td>\n",
       "      <td>0.008023</td>\n",
       "    </tr>\n",
       "    <tr>\n",
       "      <th>4</th>\n",
       "      <td>phone_strange</td>\n",
       "      <td>0.007113</td>\n",
       "    </tr>\n",
       "    <tr>\n",
       "      <th>5</th>\n",
       "      <td>home_phone</td>\n",
       "      <td>0.006821</td>\n",
       "    </tr>\n",
       "    <tr>\n",
       "      <th>6</th>\n",
       "      <td>description_len</td>\n",
       "      <td>0.006800</td>\n",
       "    </tr>\n",
       "    <tr>\n",
       "      <th>7</th>\n",
       "      <td>filtered_numbers</td>\n",
       "      <td>0.004599</td>\n",
       "    </tr>\n",
       "    <tr>\n",
       "      <th>8</th>\n",
       "      <td>has_site</td>\n",
       "      <td>0.000414</td>\n",
       "    </tr>\n",
       "  </tbody>\n",
       "</table>\n",
       "</div>"
      ],
      "text/plain": [
       "                  Feature Id  Importances\n",
       "0                       text     0.115192\n",
       "1              filtered_text     0.029891\n",
       "2               phone_normal     0.011401\n",
       "3  description_count_numbers     0.008023\n",
       "4              phone_strange     0.007113\n",
       "5                 home_phone     0.006821\n",
       "6            description_len     0.006800\n",
       "7           filtered_numbers     0.004599\n",
       "8                   has_site     0.000414"
      ]
     },
     "execution_count": 16,
     "metadata": {},
     "output_type": "execute_result"
    }
   ],
   "source": [
    "catboost_modified.get_feature_importance(val_pool, type='LossFunctionChange', prettified=True)"
   ]
  },
  {
   "cell_type": "code",
   "execution_count": 12,
   "metadata": {},
   "outputs": [
    {
     "data": {
      "text/plain": [
       "Text(0.5, 1.0, 'Permutation Importance')"
      ]
     },
     "execution_count": 12,
     "metadata": {},
     "output_type": "execute_result"
    },
    {
     "data": {
      "image/png": "[encoded data removed]",
      "text/plain": [
       "<Figure size 1200x600 with 1 Axes>"
      ]
     },
     "metadata": {},
     "output_type": "display_data"
    }
   ],
   "source": [
    "from sklearn.inspection import permutation_importance\n",
    "X_test = df_val.drop(\"is_bad\", axis=1)\n",
    "y_test = df_val[\"is_bad\"]\n",
    "perm_importance = permutation_importance(catboost_modified, X_test, y_test, n_repeats=5, random_state=1066)\n",
    "sorted_idx = perm_importance.importances_mean.argsort()\n",
    "fig = plt.figure(figsize=(12, 6))\n",
    "plt.barh(range(len(sorted_idx)), perm_importance.importances_mean[sorted_idx], align='center')\n",
    "plt.yticks(range(len(sorted_idx)), np.array(X_test.columns)[sorted_idx])\n",
    "plt.title('Permutation Importance')"
   ]
  },
  {
   "cell_type": "code",
   "execution_count": null,
   "metadata": {},
   "outputs": [],
   "source": []
  }
 ],
 "metadata": {
  "kernelspec": {
   "display_name": "avito_env",
   "language": "python",
   "name": "python3"
  },
  "language_info": {
   "codemirror_mode": {
    "name": "ipython",
    "version": 3
   },
   "file_extension": ".py",
   "mimetype": "text/x-python",
   "name": "python",
   "nbconvert_exporter": "python",
   "pygments_lexer": "ipython3",
   "version": "3.8.16"
  },
  "orig_nbformat": 4
 },
 "nbformat": 4,
 "nbformat_minor": 2
}
