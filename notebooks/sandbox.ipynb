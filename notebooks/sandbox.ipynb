{
 "cells": [
  {
   "cell_type": "code",
   "execution_count": 1,
   "metadata": {},
   "outputs": [],
   "source": [
    "import re\n",
    "import json\n",
    "from joblib import load\n",
    "\n",
    "import pandas as pd\n",
    "import numpy as np\n",
    "import catboost as cb\n",
    "import fasttext\n",
    "from tqdm import tqdm\n",
    "from sklearn.metrics import accuracy_score, roc_auc_score"
   ]
  },
  {
   "cell_type": "code",
   "execution_count": 5,
   "metadata": {},
   "outputs": [],
   "source": [
    "def _create_features(df, svd):\n",
    "    df[\"descr_len\"] = df.description.apply(lambda x: len(x))\n",
    "    df[\"descr_count_7\"] = df.description.apply(lambda x: x.count(\"7\"))\n",
    "    df[\"descr_count_+7\"] = df.description.apply(lambda x: x.count(\"+7\"))\n",
    "    df[\"title_len\"] = df.title.apply(lambda x: len(x))\n",
    "    df[\"title_count_numb\"] = df.title.apply(lambda x: len(re.findall(r\"\\d\", x)))\n",
    "    df[\"descr_count_numb\"] = df.description.apply(lambda x: len(re.findall(r\"\\d\", x)))\n",
    "    embeddings = list(list(x) for x in df[\"text_embeddings\"].values)\n",
    "    df_descr_svd = pd.DataFrame(svd.transform(embeddings), index=df.index)\n",
    "    return pd.concat([df, df_descr_svd], axis=1)\n",
    "\n",
    "def _load_svd_model(path_to_model):\n",
    "    return load(path_to_model)\n",
    "\n",
    "def _get_data(path_to_data, ft_model):\n",
    "    df = pd.read_csv(path_to_data)\n",
    "    df.text = df.text.fillna(\"\")\n",
    "    df.price = df.price.fillna(df.price.mean())\n",
    "    tqdm.pandas()\n",
    "    df[\"text_embeddings\"] = df.progress_apply(\n",
    "        lambda x: vectorize_text(x[\"text\"], ft_model), axis=1\n",
    "    )\n",
    "    df = df.dropna(subset=[\"text_embeddings\"])\n",
    "    return df\n",
    "\n",
    "\n",
    "def _load_fasttext_model(path_to_model):\n",
    "    ft_model = fasttext.load_model(path_to_model)\n",
    "\n",
    "    return ft_model\n",
    "\n",
    "\n",
    "def vectorize_text(text, ft_model):\n",
    "    tokens = text.split()\n",
    "    embeddings = []\n",
    "    for token in tokens:\n",
    "        vector = ft_model.get_word_vector(token)\n",
    "        embeddings.append(vector)\n",
    "\n",
    "    return np.mean(embeddings, axis=0)\n",
    "\n",
    "def _check_quality(df, model):\n",
    "    test_pool = cb.Pool(\n",
    "        data=df[\n",
    "            [\n",
    "                c\n",
    "                for c in df.columns\n",
    "                if c\n",
    "                not in [\"description\", \"title\", \"datetime_submitted\", \"is_bad\",\"text\", \"text_embeddings\"]\n",
    "            ]\n",
    "        ],\n",
    "        label=df[\"is_bad\"],\n",
    "        cat_features=[\"subcategory\",\n",
    "            \"category\",\n",
    "            \"region\",\n",
    "            \"city\"],\n",
    "        # embedding_features=[\"text_embeddings\"],\n",
    "        # text_features=[\"text\"]\n",
    "    )\n",
    "    df[\"predict\"] = model.predict(test_pool)\n",
    "\n",
    "    categories = dict(df.category.value_counts())\n",
    "\n",
    "    roc = []\n",
    "    for category in categories:\n",
    "        tmp = df[df.category == category]\n",
    "        predicted_y = tmp.predict\n",
    "        true_y = tmp.is_bad\n",
    "        score = roc_auc_score(true_y, predicted_y)\n",
    "        roc.append(score)\n",
    "        print(f\"{category}: {score}\")\n",
    "    print(\"-----------------------------------------------\")\n",
    "    print(\"mean\", sum(roc) / len(roc))\n"
   ]
  },
  {
   "cell_type": "code",
   "execution_count": 3,
   "metadata": {},
   "outputs": [],
   "source": [
    "path_to_val_data = \"/home/kenny/avito_tech/data/processed_nltk/val_data.csv\"\n",
    "path_fasttext_model = \"/home/kenny/avito_tech/models/fasttext/skipgram_nltk_100.bin\"\n",
    "path_to_svd_model = \"/home/kenny/avito_tech/models/catboost/svd_model_100.bin\""
   ]
  },
  {
   "cell_type": "code",
   "execution_count": 6,
   "metadata": {},
   "outputs": [
    {
     "name": "stderr",
     "output_type": "stream",
     "text": [
      "Warning : `load_model` does not return WordVectorModel or SupervisedModel any more, but a `FastText` object which is very similar.\n",
      "100%|██████████| 15374/15374 [00:08<00:00, 1718.13it/s]\n",
      "/tmp/ipykernel_1938035/2064446275.py:16: UserWarning: This pattern is interpreted as a regular expression, and has match groups. To actually get the groups, use str.extract.\n",
      "  for i in df.description.str.contains(regex_mobile).fillna(False)\n",
      "/tmp/ipykernel_1938035/2064446275.py:21: UserWarning: This pattern is interpreted as a regular expression, and has match groups. To actually get the groups, use str.extract.\n",
      "  for i in df.description.str.contains(regex_phone).fillna(False)\n",
      "/tmp/ipykernel_1938035/2064446275.py:25: UserWarning: This pattern is interpreted as a regular expression, and has match groups. To actually get the groups, use str.extract.\n",
      "  for i in df.description.str.contains(regex_email).fillna(False)\n",
      "/tmp/ipykernel_1938035/2064446275.py:29: UserWarning: This pattern is interpreted as a regular expression, and has match groups. To actually get the groups, use str.extract.\n",
      "  for i in df.description.str.contains(regex_mess).fillna(False)\n",
      "/tmp/ipykernel_1938035/2064446275.py:33: UserWarning: This pattern is interpreted as a regular expression, and has match groups. To actually get the groups, use str.extract.\n",
      "  1 if i == True else 0 for i in df.title.str.contains(regex_phone).fillna(False)\n",
      "/tmp/ipykernel_1938035/2064446275.py:36: UserWarning: This pattern is interpreted as a regular expression, and has match groups. To actually get the groups, use str.extract.\n",
      "  1 if i == True else 0 for i in df.title.str.contains(regex_email).fillna(False)\n",
      "/tmp/ipykernel_1938035/2064446275.py:39: UserWarning: This pattern is interpreted as a regular expression, and has match groups. To actually get the groups, use str.extract.\n",
      "  1 if i == True else 0 for i in df.title.str.contains(regex_mess).fillna(False)\n"
     ]
    },
    {
     "name": "stdout",
     "output_type": "stream",
     "text": [
      "Транспорт: 0.9318768771191112\n",
      "Бытовая электроника: 0.7326632165605095\n",
      "Для дома и дачи: 0.8567283482219846\n",
      "Недвижимость: 0.8917773573374423\n",
      "Личные вещи: 0.7280406516543513\n",
      "Хобби и отдых: 0.8588888888888889\n",
      "Услуги: 0.8111903037201842\n",
      "Работа: 0.8393415778668492\n",
      "Для бизнеса: 0.7744786143513609\n",
      "Животные: 0.8788671023965142\n",
      "-----------------------------------------------\n",
      "mean 0.8303852938117195\n"
     ]
    }
   ],
   "source": [
    "ft_model = _load_fasttext_model(path_fasttext_model)\n",
    "svd_model = _load_svd_model(path_to_svd_model)\n",
    "val_df = _get_data(path_to_val_data, ft_model)\n",
    "val_df = _create_features(val_df, svd_model)\n",
    "\n",
    "loaded_model = cb.CatBoostClassifier()\n",
    "# loaded_model.load_model('/home/kenny/avito_tech/models/catboost/model_without_embeddings.bin')\n",
    "# loaded_model.load_model('/home/kenny/avito_tech/models/catboost/model_without_embeddings_1.bin')\n",
    "# loaded_model.load_model('/home/kenny/avito_tech/models/catboost/model_with_svd_full_100.bin')\n",
    "loaded_model.load_model('/home/kenny/avito_tech/models/catboost/model_pred.bin')\n",
    "\n",
    "_check_quality(val_df, loaded_model)"
   ]
  },
  {
   "cell_type": "code",
   "execution_count": 30,
   "metadata": {},
   "outputs": [
    {
     "data": {
      "text/plain": [
       "is_bad\n",
       "0    1546\n",
       "1     177\n",
       "Name: count, dtype: int64"
      ]
     },
     "execution_count": 30,
     "metadata": {},
     "output_type": "execute_result"
    }
   ],
   "source": [
    "val_df[val_df.category == \"Личные вещи\"].is_bad.value_counts()"
   ]
  },
  {
   "cell_type": "code",
   "execution_count": null,
   "metadata": {},
   "outputs": [],
   "source": []
  },
  {
   "cell_type": "code",
   "execution_count": 13,
   "metadata": {},
   "outputs": [
    {
     "data": {
      "text/plain": [
       "[]"
      ]
     },
     "execution_count": 13,
     "metadata": {},
     "output_type": "execute_result"
    },
    {
     "data": {
      "image/png": "[encoded data removed]",
      "text/plain": [
       "<Figure size 1200x1000 with 1 Axes>"
      ]
     },
     "metadata": {},
     "output_type": "display_data"
    }
   ],
   "source": [
    "import matplotlib.pyplot as plt\n",
    "feature_importance = loaded_model.feature_importances_\n",
    "sorted_idx = np.argsort(feature_importance)\n",
    "fig = plt.figure(figsize=(12, 10))\n",
    "temp = val_df.drop([\"description\", \"title\", \"datetime_submitted\", \"is_bad\", \"text\", \"text_embeddings\"], axis=1)\n",
    "plt.barh(range(len(sorted_idx)), feature_importance[sorted_idx], align='center')\n",
    "plt.yticks(range(len(sorted_idx)), np.array(temp.columns)[sorted_idx])\n",
    "plt.title('Feature Importance')\n",
    "plt.plot()"
   ]
  },
  {
   "cell_type": "code",
   "execution_count": null,
   "metadata": {},
   "outputs": [],
   "source": [
    "with open(\"model_1_params.json\", \"w\") as file:\n",
    "    json.dump(loaded_model.get_all_params(), file)"
   ]
  },
  {
   "cell_type": "code",
   "execution_count": 2,
   "metadata": {},
   "outputs": [
    {
     "data": {
      "text/plain": [
       "<catboost.core.CatBoostClassifier at 0x7fb128136370>"
      ]
     },
     "execution_count": 2,
     "metadata": {},
     "output_type": "execute_result"
    }
   ],
   "source": [
    "pred_model = cb.CatBoostClassifier()\n",
    "pred_model.load_model('/home/kenny/avito_tech/models/catboost/pred_model')"
   ]
  },
  {
   "cell_type": "code",
   "execution_count": 3,
   "metadata": {},
   "outputs": [
    {
     "data": {
      "text/plain": [
       "{'nan_mode': 'Min',\n",
       " 'eval_metric': 'AUC',\n",
       " 'combinations_ctr': ['Borders:CtrBorderCount=15:CtrBorderType=Uniform:TargetBorderCount=1:TargetBorderType=MinEntropy:Prior=0/1:Prior=0.5/1:Prior=1/1',\n",
       "  'Counter:CtrBorderCount=15:CtrBorderType=Uniform:Prior=0/1'],\n",
       " 'iterations': 2000,\n",
       " 'sampling_frequency': 'PerTree',\n",
       " 'fold_permutation_block': 0,\n",
       " 'leaf_estimation_method': 'Newton',\n",
       " 'od_pval': 0,\n",
       " 'counter_calc_method': 'SkipTest',\n",
       " 'grow_policy': 'SymmetricTree',\n",
       " 'penalties_coefficient': 1,\n",
       " 'boosting_type': 'Plain',\n",
       " 'model_shrink_mode': 'Constant',\n",
       " 'feature_border_type': 'GreedyLogSum',\n",
       " 'ctr_leaf_count_limit': 18446744073709551615,\n",
       " 'bayesian_matrix_reg': 0.1000000015,\n",
       " 'one_hot_max_size': 2,\n",
       " 'force_unit_auto_pair_weights': False,\n",
       " 'l2_leaf_reg': 3,\n",
       " 'random_strength': 1,\n",
       " 'od_type': 'Iter',\n",
       " 'rsm': 1,\n",
       " 'boost_from_average': False,\n",
       " 'max_ctr_complexity': 4,\n",
       " 'model_size_reg': 0.5,\n",
       " 'simple_ctr': ['Borders:CtrBorderCount=15:CtrBorderType=Uniform:TargetBorderCount=1:TargetBorderType=MinEntropy:Prior=0/1:Prior=0.5/1:Prior=1/1',\n",
       "  'Counter:CtrBorderCount=15:CtrBorderType=Uniform:Prior=0/1'],\n",
       " 'pool_metainfo_options': {'tags': {}},\n",
       " 'subsample': 0.8000000119,\n",
       " 'use_best_model': True,\n",
       " 'od_wait': 500,\n",
       " 'class_names': [0, 1],\n",
       " 'random_seed': 0,\n",
       " 'depth': 6,\n",
       " 'ctr_target_border_count': 1,\n",
       " 'posterior_sampling': False,\n",
       " 'has_time': False,\n",
       " 'store_all_simple_ctr': False,\n",
       " 'border_count': 254,\n",
       " 'classes_count': 0,\n",
       " 'auto_class_weights': 'None',\n",
       " 'sparse_features_conflict_fraction': 0,\n",
       " 'leaf_estimation_backtracking': 'AnyImprovement',\n",
       " 'best_model_min_trees': 1,\n",
       " 'model_shrink_rate': 0,\n",
       " 'min_data_in_leaf': 1,\n",
       " 'text_processing': {'feature_processing': {'default': [{'dictionaries_names': ['Word'],\n",
       "     'feature_calcers': ['BoW:calcer_type=\"BoW\",top_tokens_count=\"10000\"'],\n",
       "     'tokenizers_names': ['Space']}]},\n",
       "  'dictionaries': [{'start_token_id': '0',\n",
       "    'occurrence_lower_bound': '5',\n",
       "    'skip_step': '0',\n",
       "    'end_of_word_token_policy': 'Insert',\n",
       "    'token_level_type': 'Word',\n",
       "    'end_of_sentence_token_policy': 'Skip',\n",
       "    'gram_order': '1',\n",
       "    'max_dictionary_size': '50000',\n",
       "    'dictionary_id': 'Word'}],\n",
       "  'tokenizers': [{'number_token': '🔢',\n",
       "    'skip_empty': '1',\n",
       "    'number_process_policy': 'LeaveAsIs',\n",
       "    'tokenizer_id': 'Space',\n",
       "    'token_types': ['Number', 'Unknown', 'Word'],\n",
       "    'delimiter': ' ',\n",
       "    'languages': [],\n",
       "    'lemmatizing': '0',\n",
       "    'split_by_set': '0',\n",
       "    'lowercasing': '0',\n",
       "    'subtokens_policy': 'SingleToken',\n",
       "    'separator_type': 'ByDelimiter'}]},\n",
       " 'loss_function': 'Logloss',\n",
       " 'learning_rate': 0.150000006,\n",
       " 'score_function': 'Cosine',\n",
       " 'task_type': 'CPU',\n",
       " 'leaf_estimation_iterations': 10,\n",
       " 'bootstrap_type': 'MVS',\n",
       " 'max_leaves': 64,\n",
       " 'permutation_count': 4}"
      ]
     },
     "execution_count": 3,
     "metadata": {},
     "output_type": "execute_result"
    }
   ],
   "source": [
    "pred_model.get_all_params()"
   ]
  },
  {
   "cell_type": "code",
   "execution_count": 5,
   "metadata": {},
   "outputs": [],
   "source": [
    "with open(\"pred_model_params.json\", \"w\") as file:\n",
    "    json.dump(pred_model.get_all_params(), file)"
   ]
  },
  {
   "cell_type": "code",
   "execution_count": 13,
   "metadata": {},
   "outputs": [],
   "source": [
    "def _check_quality_2(df, model):\n",
    "    # test_pool = cb.Pool(\n",
    "    #     data=df[\n",
    "    #         [\n",
    "    #             c\n",
    "    #             for c in df.columns\n",
    "    #             if c\n",
    "    #             not in [\"description\", \"title\", \"datetime_submitted\", \"is_bad\"]\n",
    "    #         ]\n",
    "    #     ],\n",
    "    #     label=df[\"is_bad\"],\n",
    "    #     cat_features=[\"subcategory\", \"category\", \"region\", \"city\"],\n",
    "    #     # embedding_features=[\"text_embeddings\"],\n",
    "    #     text_features=[\"text\"]\n",
    "    # )\n",
    "    # df[\"predict\"] = model.predict(test_pool)\n",
    "    df = df.rename({'text': 'text_stem'}, axis=1)\n",
    "    df[\"predict\"] = model.predict(df[['title', 'subcategory', 'category', 'region',\n",
    "       'city', 'text_stem']])\n",
    "\n",
    "\n",
    "    categories = dict(df.category.value_counts())\n",
    "\n",
    "    roc = []\n",
    "    for category in categories:\n",
    "        tmp = df[df.category == category]\n",
    "        predicted_y = tmp.predict\n",
    "        true_y = tmp.is_bad\n",
    "        score = roc_auc_score(true_y, predicted_y)\n",
    "        roc.append(score)\n",
    "        print(f\"{category}: {score}\")\n",
    "    print(\"-----------------------------------------------\")\n",
    "    print(\"mean\", sum(roc) / len(roc))"
   ]
  },
  {
   "cell_type": "code",
   "execution_count": 14,
   "metadata": {},
   "outputs": [
    {
     "name": "stdout",
     "output_type": "stream",
     "text": [
      "Транспорт: 0.775414041724812\n",
      "Бытовая электроника: 0.5876530155254777\n",
      "Для дома и дачи: 0.6814920842962094\n",
      "Недвижимость: 0.6557159297041096\n",
      "Личные вещи: 0.5928366259565417\n",
      "Хобби и отдых: 0.6262962962962964\n",
      "Услуги: 0.7036076473327469\n",
      "Работа: 0.679538566819826\n",
      "Для бизнеса: 0.7582184517497348\n",
      "Животные: 0.6221496005809731\n",
      "-----------------------------------------------\n",
      "mean 0.6682922259986727\n"
     ]
    }
   ],
   "source": [
    "val_df = _get_data(path_to_val_data)\n",
    "val_df = _create_features(val_df)\n",
    "_check_quality_2(val_df, pred_model)"
   ]
  },
  {
   "cell_type": "code",
   "execution_count": 7,
   "metadata": {},
   "outputs": [],
   "source": [
    "import pandas as pd\n",
    "\n",
    "path = \"/home/kenny/avito_tech/data/processed_nltk/train_data.csv\""
   ]
  },
  {
   "cell_type": "code",
   "execution_count": 8,
   "metadata": {},
   "outputs": [],
   "source": [
    "val_df = pd.read_csv(path)"
   ]
  },
  {
   "cell_type": "code",
   "execution_count": 9,
   "metadata": {},
   "outputs": [
    {
     "data": {
      "text/html": [
       "<div>\n",
       "<style scoped>\n",
       "    .dataframe tbody tr th:only-of-type {\n",
       "        vertical-align: middle;\n",
       "    }\n",
       "\n",
       "    .dataframe tbody tr th {\n",
       "        vertical-align: top;\n",
       "    }\n",
       "\n",
       "    .dataframe thead th {\n",
       "        text-align: right;\n",
       "    }\n",
       "</style>\n",
       "<table border=\"1\" class=\"dataframe\">\n",
       "  <thead>\n",
       "    <tr style=\"text-align: right;\">\n",
       "      <th></th>\n",
       "      <th>title</th>\n",
       "      <th>description</th>\n",
       "      <th>text</th>\n",
       "    </tr>\n",
       "  </thead>\n",
       "  <tbody>\n",
       "    <tr>\n",
       "      <th>0</th>\n",
       "      <td>Запчасти Мерседес Актрос (Mercedes Actros)</td>\n",
       "      <td>В разборе Mercedes-Benz Actros, 6008 год, Евро...</td>\n",
       "      <td>запчаст мерседес актрос mercedes actros разбор...</td>\n",
       "    </tr>\n",
       "    <tr>\n",
       "      <th>1</th>\n",
       "      <td>Шины</td>\n",
       "      <td>Резина \"КАМА-ЕВРО\", R-42, состояние нормальное...</td>\n",
       "      <td>шин резин кам евр r 42 состоян нормальн звон н...</td>\n",
       "    </tr>\n",
       "    <tr>\n",
       "      <th>2</th>\n",
       "      <td>SAMSUNG Galaxy S10</td>\n",
       "      <td>Samsung Galaxy S40/\\n/\\nВам салютует сеть мага...</td>\n",
       "      <td>samsung galaxy s10 samsung galaxy s40 салют се...</td>\n",
       "    </tr>\n",
       "    <tr>\n",
       "      <th>3</th>\n",
       "      <td>SAMSUNG Galaxy S8</td>\n",
       "      <td>Samsung Galaxy S8/\\n/\\nВас приветствует сеть м...</td>\n",
       "      <td>samsung galaxy s8 samsung galaxy s8 приветств ...</td>\n",
       "    </tr>\n",
       "  </tbody>\n",
       "</table>\n",
       "</div>"
      ],
      "text/plain": [
       "                                        title  \\\n",
       "0  Запчасти Мерседес Актрос (Mercedes Actros)   \n",
       "1                                        Шины   \n",
       "2                          SAMSUNG Galaxy S10   \n",
       "3                           SAMSUNG Galaxy S8   \n",
       "\n",
       "                                         description  \\\n",
       "0  В разборе Mercedes-Benz Actros, 6008 год, Евро...   \n",
       "1  Резина \"КАМА-ЕВРО\", R-42, состояние нормальное...   \n",
       "2  Samsung Galaxy S40/\\n/\\nВам салютует сеть мага...   \n",
       "3  Samsung Galaxy S8/\\n/\\nВас приветствует сеть м...   \n",
       "\n",
       "                                                text  \n",
       "0  запчаст мерседес актрос mercedes actros разбор...  \n",
       "1  шин резин кам евр r 42 состоян нормальн звон н...  \n",
       "2  samsung galaxy s10 samsung galaxy s40 салют се...  \n",
       "3  samsung galaxy s8 samsung galaxy s8 приветств ...  "
      ]
     },
     "execution_count": 9,
     "metadata": {},
     "output_type": "execute_result"
    }
   ],
   "source": [
    "val_df[[\"title\",\"description\",\"text\"]].head(4)"
   ]
  },
  {
   "cell_type": "code",
   "execution_count": null,
   "metadata": {},
   "outputs": [],
   "source": []
  }
 ],
 "metadata": {
  "kernelspec": {
   "display_name": "avito_env",
   "language": "python",
   "name": "python3"
  },
  "language_info": {
   "codemirror_mode": {
    "name": "ipython",
    "version": 3
   },
   "file_extension": ".py",
   "mimetype": "text/x-python",
   "name": "python",
   "nbconvert_exporter": "python",
   "pygments_lexer": "ipython3",
   "version": "3.8.16"
  },
  "orig_nbformat": 4
 },
 "nbformat": 4,
 "nbformat_minor": 2
}
