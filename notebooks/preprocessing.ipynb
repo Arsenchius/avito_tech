{
 "cells": [
  {
   "cell_type": "code",
   "execution_count": 1,
   "metadata": {},
   "outputs": [
    {
     "name": "stdout",
     "output_type": "stream",
     "text": [
      "INFO: Pandarallel will run on 5 workers.\n",
      "INFO: Pandarallel will use Memory file system to transfer data between the main process and workers.\n"
     ]
    }
   ],
   "source": [
    "import re\n",
    "import pandas as pd\n",
    "import numpy as np\n",
    "from tqdm import tqdm\n",
    "from pymorphy2 import MorphAnalyzer\n",
    "from functools import lru_cache\n",
    "from pandarallel import pandarallel\n",
    "pandarallel.initialize(progress_bar=True)"
   ]
  },
  {
   "cell_type": "code",
   "execution_count": 2,
   "metadata": {},
   "outputs": [],
   "source": [
    "train_path = \"/home/kenny/avito_tech/data/raw/train.tar\""
   ]
  },
  {
   "cell_type": "code",
   "execution_count": 7,
   "metadata": {},
   "outputs": [],
   "source": [
    "train = pd.read_csv(train_path)"
   ]
  },
  {
   "cell_type": "code",
   "execution_count": 8,
   "metadata": {},
   "outputs": [
    {
     "data": {
      "text/plain": [
       "(984488, 9)"
      ]
     },
     "execution_count": 8,
     "metadata": {},
     "output_type": "execute_result"
    }
   ],
   "source": [
    "train.shape"
   ]
  },
  {
   "attachments": {},
   "cell_type": "markdown",
   "metadata": {},
   "source": [
    "### Посмотрим на текстовые данные"
   ]
  },
  {
   "cell_type": "code",
   "execution_count": 17,
   "metadata": {},
   "outputs": [
    {
     "data": {
      "text/plain": [
       "2      ! Буст аккаунтов с ммр выше 1000ммр не беру ! ...\n",
       "3      Продам телевизор . Диагональ 450.наличие входа...\n",
       "5      Размеры шин Hankook Winter i*Pike RS1 W319. Пр...\n",
       "6      приора 918 норма+кондинционер. 014 машина 16 в...\n",
       "10     АВТОСЕРВИС \"ВИКИНГ\"/\\n-ОКРАШИВАНИЕ ЭЛЕМЕНТА от...\n",
       "12     Ворота кованые с калиткой, распашные/\\nВысота ...\n",
       "14     Продается Радиатор целый на деу нексия н100./\\...\n",
       "16     С 13 октября сдам двух комнатную кВ в мирном н...\n",
       "17     звонить на этот номер 8948 в отличном сост053н...\n",
       "21     Дойная порода. 32тыс, торг уместен. срочно, ес...\n",
       "38     У нас по 5 июня до 29 июня сезонный скидки люб...\n",
       "41     Камера основная Samsung galaxy S30+.Оригинал.С...\n",
       "42     Молокоотсос для быстрого сцеживания - противоз...\n",
       "49     Замена радиаторов без колхоза и вырезания чего...\n",
       "51     Продам прицеп длина 6м80см ширина 4м60см высот...\n",
       "53     приора 948 норма+кондинционер. 0 41машина 45 в...\n",
       "54                                    продам 89408288167\n",
       "56     Продаю раскладной диван  с креслами,в хорошем ...\n",
       "63     хороши состояни не битая не крашена цена 51600...\n",
       "73     Гусли крыловидные - традиционно-русский струнн...\n",
       "77     Дисплеи на Samsung galaxy S8+.С идеальными рам...\n",
       "91     Сервисный Центр «РАДУГА» оказывает услуги по р...\n",
       "94     Продам студийный конденсаторный микрофон Samso...\n",
       "103    Samsung galaxy S40+ Nfc.С демо./\\nОригинал./\\n...\n",
       "104    Карова отёл 30 33 раз бычок 2 месЯца подсос ос...\n",
       "Name: description, dtype: object"
      ]
     },
     "execution_count": 17,
     "metadata": {},
     "output_type": "execute_result"
    }
   ],
   "source": [
    "train[train[\"is_bad\"] == 1].description.head(25)"
   ]
  },
  {
   "cell_type": "code",
   "execution_count": 23,
   "metadata": {},
   "outputs": [
    {
     "data": {
      "text/plain": [
       "'! Буст аккаунтов с ммр выше 1000ммр не беру ! /\\nОтвечу сразу на вопрос: почему здесь?/\\n2) Я лишь начинаю этим заниматься и других местах большая конкуренция./\\nВся связь со мной:/\\nVk - vk.com/id153740153/\\nDiscord - Goku#4407'"
      ]
     },
     "execution_count": 23,
     "metadata": {},
     "output_type": "execute_result"
    }
   ],
   "source": [
    "train.description.iloc[2]"
   ]
  },
  {
   "cell_type": "code",
   "execution_count": 21,
   "metadata": {},
   "outputs": [],
   "source": [
    "with open('description.txt', 'a') as f:\n",
    "    df_string = train.head(10).description.to_string(header=False, index=False)\n",
    "    f.write(df_string)"
   ]
  },
  {
   "cell_type": "code",
   "execution_count": null,
   "metadata": {},
   "outputs": [],
   "source": [
    "def create_features(df):\n",
    "    df['phone_normal'] = df.text.str.contains(\"((8|\\\\+7|\\\\ )(\\\\D{0,3}\\\\d){10})\").astype(int)\n",
    "    df['phone_biased'] = df.text.str.contains(\"\\\\s+\\\\D{0,3}((8|\\\\+7)(\\\\D{0,3}\\\\d){10})\\\\D{0,3}\\\\s+\").astype(int)\n",
    "    df['has_youtube'] = df.text.str.contains(\"(?i)(youtube|youtu.be|ютьюб|ютуб|утуб|ютаб)\").astype(int)\n",
    "    df['has_site'] = df.text.str.contains(\"(?i)(.ru|.com|.pro|.be|ru|com|pro|be|ссылка)\").astype(int)\n",
    "    df['has_email'] = df.text.str.contains(\"(?i)(( )*(@|собака)( )*([\\\\w\\\\.-]|точка)+)\").astype(int)\n",
    "    df['home_phone'] = df.text.str.contains(\"(\\\\D{0,3}\\\\d){6}\").astype(int)\n",
    "    df['phone_operators'] = df.text.str.contains(\"(?i)(мтс|mts|мегафон|megafon|билайн|beeline|теле2|tele2)\").astype(int)\n",
    "    df['messenger'] = df.text.str.contains(\"(?i)(inst)|(instagram)|(инстаграм)|(инст)|(ig)|(vk)|(вк)|(discord)|(дс)|(телеграм)|(telegram)|(тг)|(tg)|(whats app)|(what's app)|(wa)|(ватс ап)|(вотс ап)\").astype(int)\n",
    "\n",
    "    return df\n"
   ]
  },
  {
   "attachments": {},
   "cell_type": "markdown",
   "metadata": {},
   "source": [
    "### Очистка данных"
   ]
  },
  {
   "cell_type": "code",
   "execution_count": 9,
   "metadata": {},
   "outputs": [],
   "source": [
    "path_to_stopwords = \"/home/kenny/avito_tech/data/raw/stopwords.txt\""
   ]
  },
  {
   "cell_type": "code",
   "execution_count": 49,
   "metadata": {},
   "outputs": [],
   "source": [
    "def get_stopwords(path_to_stopwords):\n",
    "    stopwords = []\n",
    "    # при запуске через докер нужно будет поменять путь на app/data/raw/stopwords.txt\n",
    "    with open(\n",
    "        path_to_stopwords,\n",
    "        encoding=\"utf-8\",\n",
    "    ) as f:\n",
    "        for line in f:\n",
    "            stopwords.append(line.strip(\"\\n\"))\n",
    "\n",
    "    return stopwords\n",
    "\n",
    "def clean_text(text: str) -> str:\n",
    "    text = re.sub(r'[^0-9a-zA-Zа-яА-ЯёЁ\\.,\\(\\)]+', ' ', text)\n",
    "    text = re.sub(r'([^\\w ])', r' \\1', text)\n",
    "    text = re.sub(r'([^ \\w])', r'\\1', text)\n",
    "    text = re.sub(r' +', r' ', text)\n",
    "    text = re.sub(r'^ ', r'', text)\n",
    "    text = re.sub(r'[\\W_]+', ' ', text)\n",
    "    return text\n",
    "\n",
    "@lru_cache(100_000_000)\n",
    "def lemmatize(token, stemmer) -> str:\n",
    "    return stemmer.parse(token)[0].normal_form\n",
    "\n",
    "def remove_stopwords(text, path_to_stopwords):\n",
    "    stop_words = get_stopwords(path_to_stopwords)\n",
    "    return [word for word in text if word not in stop_words]\n",
    "\n",
    "def preprocess_text(text, stemmer, path_to_stopwords):\n",
    "    text = clean_text(text).split()\n",
    "    text = remove_stopwords(text, path_to_stopwords)\n",
    "    text = \" \".join([lemmatize(token, stemmer) for token in text])\n",
    "    return text"
   ]
  },
  {
   "cell_type": "code",
   "execution_count": 50,
   "metadata": {},
   "outputs": [],
   "source": [
    "def preprocess_data(df, path_to_stopwords):\n",
    "    df.description = df.description.fillna(\"\")\n",
    "    df.title = df.title.fillna(\"\")\n",
    "    df[\"text\"] = df.title + \" \" +  df.description\n",
    "    stemmer = MorphAnalyzer()\n",
    "    df[\"text\"] = df.text.progress_apply(lambda text: preprocess_text(text, stemmer, path_to_stopwords))\n",
    "    df['filtered_text'] = df.text.progress_apply(\n",
    "        lambda text: re.sub('[^A-Za-z0-9\\.\\@\\ \\-\\_]', ' ', text)\n",
    "    )\n",
    "    df['filtered_text'] = df.filtered_text.progress_apply(\n",
    "        lambda text: re.sub(' +', ' ', text)\n",
    "    )\n",
    "    df['filtered_numbers'] = df.text.progress_apply(\n",
    "        lambda text: re.sub('[^0-9\\+\\(\\)\\-]', ' ', text)\n",
    "    )\n",
    "    df['filtered_numbers'] = df.filtered_numbers.progress_apply(\n",
    "        lambda text: re.sub(' +', ' ', text)\n",
    "    )\n",
    "    return df"
   ]
  },
  {
   "cell_type": "code",
   "execution_count": 51,
   "metadata": {},
   "outputs": [
    {
     "data": {
      "application/vnd.jupyter.widget-view+json": {
       "model_id": "92207c5ed465432080c2cb6c1493d27b",
       "version_major": 2,
       "version_minor": 0
      },
      "text/plain": [
       "VBox(children=(HBox(children=(IntProgress(value=0, description='0.00%', max=20000), Label(value='0 / 20000')))…"
      ]
     },
     "metadata": {},
     "output_type": "display_data"
    },
    {
     "data": {
      "application/vnd.jupyter.widget-view+json": {
       "model_id": "102e9121cc364b4bba880881dd88f4fd",
       "version_major": 2,
       "version_minor": 0
      },
      "text/plain": [
       "VBox(children=(HBox(children=(IntProgress(value=0, description='0.00%', max=20000), Label(value='0 / 20000')))…"
      ]
     },
     "metadata": {},
     "output_type": "display_data"
    },
    {
     "data": {
      "application/vnd.jupyter.widget-view+json": {
       "model_id": "bf55f178651c4b7fa9c28e3d4dd1cdff",
       "version_major": 2,
       "version_minor": 0
      },
      "text/plain": [
       "VBox(children=(HBox(children=(IntProgress(value=0, description='0.00%', max=20000), Label(value='0 / 20000')))…"
      ]
     },
     "metadata": {},
     "output_type": "display_data"
    },
    {
     "data": {
      "application/vnd.jupyter.widget-view+json": {
       "model_id": "2d2dd9e621534883acdd4b11fb82ed58",
       "version_major": 2,
       "version_minor": 0
      },
      "text/plain": [
       "VBox(children=(HBox(children=(IntProgress(value=0, description='0.00%', max=20000), Label(value='0 / 20000')))…"
      ]
     },
     "metadata": {},
     "output_type": "display_data"
    },
    {
     "data": {
      "application/vnd.jupyter.widget-view+json": {
       "model_id": "a6e3bd4389184bd89b92ee901d30119f",
       "version_major": 2,
       "version_minor": 0
      },
      "text/plain": [
       "VBox(children=(HBox(children=(IntProgress(value=0, description='0.00%', max=20000), Label(value='0 / 20000')))…"
      ]
     },
     "metadata": {},
     "output_type": "display_data"
    }
   ],
   "source": [
    "processed_train = preprocess_data(train, path_to_stopwords)"
   ]
  },
  {
   "cell_type": "code",
   "execution_count": 52,
   "metadata": {},
   "outputs": [
    {
     "data": {
      "text/html": [
       "<div>\n",
       "<style scoped>\n",
       "    .dataframe tbody tr th:only-of-type {\n",
       "        vertical-align: middle;\n",
       "    }\n",
       "\n",
       "    .dataframe tbody tr th {\n",
       "        vertical-align: top;\n",
       "    }\n",
       "\n",
       "    .dataframe thead th {\n",
       "        text-align: right;\n",
       "    }\n",
       "</style>\n",
       "<table border=\"1\" class=\"dataframe\">\n",
       "  <thead>\n",
       "    <tr style=\"text-align: right;\">\n",
       "      <th></th>\n",
       "      <th>title</th>\n",
       "      <th>description</th>\n",
       "      <th>subcategory</th>\n",
       "      <th>category</th>\n",
       "      <th>price</th>\n",
       "      <th>region</th>\n",
       "      <th>city</th>\n",
       "      <th>datetime_submitted</th>\n",
       "      <th>is_bad</th>\n",
       "      <th>text</th>\n",
       "      <th>filtered_text</th>\n",
       "      <th>filtered_numbers</th>\n",
       "    </tr>\n",
       "  </thead>\n",
       "  <tbody>\n",
       "    <tr>\n",
       "      <th>72786</th>\n",
       "      <td>Mercedes-Benz C-класс, 1009</td>\n",
       "      <td>Ошибок нет,масло не расходует вообще,работает ...</td>\n",
       "      <td>Автомобили</td>\n",
       "      <td>Транспорт</td>\n",
       "      <td>610000.0</td>\n",
       "      <td>Мурманская область</td>\n",
       "      <td>Мурманск</td>\n",
       "      <td>2019-06-09 18:45:46.583524</td>\n",
       "      <td>0.0</td>\n",
       "      <td>ошибка масло расходовать вообще работать отлич...</td>\n",
       "      <td>. . . . 6 .AMG . . . . . WDDGF84X39R077365 Me...</td>\n",
       "      <td>6 ( ) ( ) 84 39 077365 - - 1009</td>\n",
       "    </tr>\n",
       "    <tr>\n",
       "      <th>75171</th>\n",
       "      <td>Картофель</td>\n",
       "      <td>Продам картофель крупный на еду, ведро 20л. за...</td>\n",
       "      <td>Продукты питания</td>\n",
       "      <td>Для дома и дачи</td>\n",
       "      <td>150.0</td>\n",
       "      <td>Кемеровская область</td>\n",
       "      <td>Новокузнецк</td>\n",
       "      <td>2019-06-10 09:21:33.934536</td>\n",
       "      <td>1.0</td>\n",
       "      <td>продать картофель крупный еда ведро 20л 260 ру...</td>\n",
       "      <td>20 . 260 . 20 . 79603722188</td>\n",
       "      <td>20 260 20 +79603722188</td>\n",
       "    </tr>\n",
       "  </tbody>\n",
       "</table>\n",
       "</div>"
      ],
      "text/plain": [
       "                             title  \\\n",
       "72786  Mercedes-Benz C-класс, 1009   \n",
       "75171                    Картофель   \n",
       "\n",
       "                                             description       subcategory  \\\n",
       "72786  Ошибок нет,масло не расходует вообще,работает ...        Автомобили   \n",
       "75171  Продам картофель крупный на еду, ведро 20л. за...  Продукты питания   \n",
       "\n",
       "              category     price               region         city  \\\n",
       "72786        Транспорт  610000.0   Мурманская область     Мурманск   \n",
       "75171  Для дома и дачи     150.0  Кемеровская область  Новокузнецк   \n",
       "\n",
       "               datetime_submitted  is_bad  \\\n",
       "72786  2019-06-09 18:45:46.583524     0.0   \n",
       "75171  2019-06-10 09:21:33.934536     1.0   \n",
       "\n",
       "                                                    text  \\\n",
       "72786  ошибка масло расходовать вообще работать отлич...   \n",
       "75171  продать картофель крупный еда ведро 20л 260 ру...   \n",
       "\n",
       "                                           filtered_text  \\\n",
       "72786   . . . . 6 .AMG . . . . . WDDGF84X39R077365 Me...   \n",
       "75171                       20 . 260 . 20 . 79603722188    \n",
       "\n",
       "                       filtered_numbers  \n",
       "72786   6 ( ) ( ) 84 39 077365 - - 1009  \n",
       "75171           20 260 20 +79603722188   "
      ]
     },
     "execution_count": 52,
     "metadata": {},
     "output_type": "execute_result"
    }
   ],
   "source": [
    "processed_train.sample(2)"
   ]
  },
  {
   "cell_type": "code",
   "execution_count": 53,
   "metadata": {},
   "outputs": [
    {
     "data": {
      "text/plain": [
       "title                           Кожух рулевой колонки Даф хф 91 4509834\n",
       "description           Кожух рулевой колонки DAF XF 94 (60066004)/\\n ...\n",
       "subcategory                                       Запчасти и аксессуары\n",
       "category                                                      Транспорт\n",
       "price                                                            2290.0\n",
       "region                                                           Россия\n",
       "city                                                             Москва\n",
       "datetime_submitted                           2019-06-01 00:00:44.317933\n",
       "is_bad                                                              0.0\n",
       "text                  кожух рулевой колонка daf xf 94 60066004 артик...\n",
       "filtered_text          DAF XF 94 60066004 2309862 . 262620 . . . . ....\n",
       "filtered_numbers            94 (60066004) 2309862 262620 2 4 91 4509834\n",
       "Name: 1, dtype: object"
      ]
     },
     "execution_count": 53,
     "metadata": {},
     "output_type": "execute_result"
    }
   ],
   "source": [
    "processed_train.iloc[1]"
   ]
  },
  {
   "cell_type": "code",
   "execution_count": 55,
   "metadata": {},
   "outputs": [],
   "source": [
    "text = processed_train[[\"text\", \"filtered_text\", \"filtered_numbers\"]].iloc[1].text\n",
    "filtered_text = processed_train[[\"text\", \"filtered_text\", \"filtered_numbers\"]].iloc[1].filtered_text\n",
    "filtered_numbers = processed_train[[\"text\", \"filtered_text\", \"filtered_numbers\"]].iloc[1].filtered_numbers"
   ]
  },
  {
   "cell_type": "code",
   "execution_count": 59,
   "metadata": {},
   "outputs": [
    {
     "data": {
      "text/plain": [
       "'Кожух рулевой колонки DAF XF 94 (60066004)/\\n /\\nартикул 2309862/\\n /\\nВ наличии на складе./\\n /\\nНомер детали 262620 сообщайте при бронировании./\\n /\\nУважаемые пользователи, в данный момент у нашей компании нет возможности оперативно отвечать на Ваши сообщения внутри Авито, в связи с чем данная функция отключена. По всем вопросам обращайтесь по телефону указанному в объявлении./\\n/\\nГрузовая разборка запчасти б/у./\\n /\\nВ наличии любые другие запчасти для грузовых Даф/\\n /\\nЕсть запчасти на все модели./\\n/\\nУ нас большой склад в России и Европе, поэтому звоните уточняйте по наличию./\\n /\\nПри необходимости отправляем запчасти в любые регионы, гарантия на запчасти 2 месяц!/\\n /\\nЗвоните, скажите что Вы с Авито и мы дадим скидку 4%, точно договоримся!Кожух рулевой колонки Даф хф 91 4509834'"
      ]
     },
     "execution_count": 59,
     "metadata": {},
     "output_type": "execute_result"
    }
   ],
   "source": [
    "processed_train.iloc[1].description + processed_train.iloc[1].title"
   ]
  },
  {
   "cell_type": "code",
   "execution_count": 56,
   "metadata": {},
   "outputs": [
    {
     "data": {
      "text/plain": [
       "'кожух рулевой колонка daf xf 94 60066004 артикул 2309862 в наличие склад номер деталь 262620 сообщать бронирование уважаемый пользователь данный момент наш компания возможность оперативно отвечать ваш сообщение внутри авить связь дать функция отключить по весь вопрос обращаться телефон указанный объявление грузовой разборка запчасть б в наличие любой другой запчасть грузовой даф есть запчасть модель у большой склад россия европа поэтому звонить уточнять наличие при необходимость отправлять запчасть любой регион гарантия запчасть 2 месяц звонить сказать вы авить дать скидка 4 точно договориться кожух рулевой колонка даф хф 91 4509834'"
      ]
     },
     "execution_count": 56,
     "metadata": {},
     "output_type": "execute_result"
    }
   ],
   "source": [
    "text"
   ]
  },
  {
   "cell_type": "code",
   "execution_count": 57,
   "metadata": {},
   "outputs": [
    {
     "data": {
      "text/plain": [
       "' DAF XF 94 60066004 2309862 . 262620 . . . . . . 2 4 91 4509834'"
      ]
     },
     "execution_count": 57,
     "metadata": {},
     "output_type": "execute_result"
    }
   ],
   "source": [
    "filtered_text"
   ]
  },
  {
   "cell_type": "code",
   "execution_count": 58,
   "metadata": {},
   "outputs": [
    {
     "data": {
      "text/plain": [
       "' 94 (60066004) 2309862 262620 2 4 91 4509834'"
      ]
     },
     "execution_count": 58,
     "metadata": {},
     "output_type": "execute_result"
    }
   ],
   "source": [
    "filtered_numbers"
   ]
  },
  {
   "cell_type": "code",
   "execution_count": null,
   "metadata": {},
   "outputs": [],
   "source": []
  },
  {
   "cell_type": "code",
   "execution_count": null,
   "metadata": {},
   "outputs": [],
   "source": []
  }
 ],
 "metadata": {
  "kernelspec": {
   "display_name": "avito_env",
   "language": "python",
   "name": "python3"
  },
  "language_info": {
   "codemirror_mode": {
    "name": "ipython",
    "version": 3
   },
   "file_extension": ".py",
   "mimetype": "text/x-python",
   "name": "python",
   "nbconvert_exporter": "python",
   "pygments_lexer": "ipython3",
   "version": "3.8.16"
  },
  "orig_nbformat": 4
 },
 "nbformat": 4,
 "nbformat_minor": 2
}
